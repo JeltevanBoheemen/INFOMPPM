{
 "cells": [
  {
   "cell_type": "markdown",
   "metadata": {},
   "source": [
    "# Extract search results with BeautifulSoup: PBS.org - part 02\n",
    "With the ten most recent articles collected, it is time to see if we can extract information from these pages. You will use a lot of what you learned in the previous Notebooks."
   ]
  },
  {
   "cell_type": "markdown",
   "metadata": {},
   "source": [
    "### 1. Loop through the files and extract the data\n",
    "Make sure you have the following list:\n",
    "`[{'title': 'Google CEO calls for regulation of artificial intelligence', 'description': '“There is no question in my mind that artificial intelligence needs to be regulated. The question is how best to approach this,” Sundar Pichai said.','datetime': '2020-01-20T09:13:07-05:00', 'section': 'Economy', 'tags': 'artificial intelligence, google, technology'}, {...}. {...}]`"
   ]
  },
  {
   "cell_type": "code",
   "execution_count": 5,
   "metadata": {},
   "outputs": [],
   "source": [
    "def extract_meta_content(soup, query):\n",
    "    return soup.find('meta', attrs=query)['content']\n",
    "    \n",
    "\n",
    "def extract_metadata(soup):\n",
    "    return {\n",
    "        'title': extract_meta_content(soup, {'property': 'og:title'}),\n",
    "        'description':  extract_meta_content(soup, {'name': 'description'}),\n",
    "        'datetime':  extract_meta_content(soup, {'property': 'article:published_time'}),\n",
    "        'section':  extract_meta_content(soup, {'property': 'article:section'}),\n",
    "        'tags':  extract_meta_content(soup, {'property': 'article:tag'}),\n",
    "    }"
   ]
  },
  {
   "cell_type": "code",
   "execution_count": null,
   "metadata": {},
   "outputs": [],
   "source": [
    "import glob\n",
    "from bs4 import BeautifulSoup\n",
    "\n",
    "# load html files\n",
    "files = glob.glob('./data/*.html')\n",
    "\n",
    "data = list(map(\n",
    "  lambda file: extract_metadata(BeautifulSoup(open(file), 'html.parser')),\n",
    "  files\n",
    "))\n",
    "\n",
    "data"
   ]
  }
 ],
 "metadata": {
  "interpreter": {
   "hash": "37c10f95d263926787ebf1d430d11186fc6b9bac835b8518e0b5006ed24f0c36"
  },
  "kernelspec": {
   "display_name": "Python 3.8.0 64-bit",
   "language": "python",
   "name": "python3"
  },
  "language_info": {
   "codemirror_mode": {
    "name": "ipython",
    "version": 3
   },
   "file_extension": ".py",
   "mimetype": "text/x-python",
   "name": "python",
   "nbconvert_exporter": "python",
   "pygments_lexer": "ipython3",
   "version": "3.11.0"
  },
  "orig_nbformat": 4
 },
 "nbformat": 4,
 "nbformat_minor": 2
}

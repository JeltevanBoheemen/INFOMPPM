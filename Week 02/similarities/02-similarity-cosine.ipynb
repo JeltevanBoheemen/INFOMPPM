{
 "cells": [
  {
   "cell_type": "markdown",
   "id": "cd5f25cb",
   "metadata": {},
   "source": [
    "# Cosine Similarity\n",
    "\n",
    "In this section you will construct another similarity metric, now based on the cosinus.\n",
    "\n",
    "Remember trigonometry (or better, linear algebra!) from your mathematics class? Well this metric is based on trigonometric operations and calculates the angle between two vectors. It might look difficult but it is rather simple. "
   ]
  },
  {
   "cell_type": "markdown",
   "id": "29570224",
   "metadata": {},
   "source": [
    "## 1. Load the dataset"
   ]
  },
  {
   "cell_type": "code",
   "execution_count": 1,
   "id": "789e26fc",
   "metadata": {},
   "outputs": [],
   "source": [
    "import pandas as pd\n",
    "df = pd.read_csv('data/BX-Book-Ratings-Subset.csv', sep=';')"
   ]
  },
  {
   "cell_type": "markdown",
   "id": "011e2c97",
   "metadata": {},
   "source": [
    "## 2. Explore the dimensions (shape) of users' rating data\n",
    "\n",
    "Here are the IDs of two users in our ratings dataset. What are their respective ratings' dimensions (shape)? How many books did these users rate respectively?"
   ]
  },
  {
   "cell_type": "code",
   "execution_count": 13,
   "id": "b7f8330f",
   "metadata": {},
   "outputs": [
    {
     "data": {
      "text/plain": [
       "((17, 3), (1, 3))"
      ]
     },
     "execution_count": 13,
     "metadata": {},
     "output_type": "execute_result"
    }
   ],
   "source": [
    "user_id_a = 277427\n",
    "user_id_b = 277203\n",
    "\n",
    "ratings_a = df.groupby('User-ID').get_group(user_id_a)\n",
    "ratings_b = df.groupby('User-ID').get_group(user_id_b)\n",
    "\n",
    "ratings_a.shape, ratings_b.shape"
   ]
  },
  {
   "cell_type": "markdown",
   "id": "ea239736",
   "metadata": {},
   "source": [
    "If we are to produce vectors from the users' ratings and apply trigonometric operations on them,  can you see a problem here? Are the vectors of the same dimension? If not, why is this a 'problem'?"
   ]
  },
  {
   "cell_type": "markdown",
   "id": "9725f7ef",
   "metadata": {},
   "source": [
    "The vectors are not the same dimension. We thus cannot apply vector operations on them."
   ]
  },
  {
   "cell_type": "markdown",
   "id": "e0e2e7c2",
   "metadata": {},
   "source": [
    "## 3. Vectorize ratings\n",
    "\n",
    "Can you vectorize the above users' ratings so they have the same dimension? To help you do this, here is sorted  list of all the ISBNs in our dataset. How can you use this list of all the ISBNs to create a (large!) vector for user_id_a?"
   ]
  },
  {
   "cell_type": "code",
   "execution_count": 33,
   "id": "6a499832",
   "metadata": {},
   "outputs": [],
   "source": [
    "def vectorize_ratings(ratings, full_vector):\n",
    "    return [\n",
    "    ratings[ratings['ISBN'] == x]['Book-Rating'].item()\n",
    "    if x in ratings['ISBN'].values\n",
    "    else 0\n",
    "    for x in full_vector\n",
    "]"
   ]
  },
  {
   "cell_type": "code",
   "execution_count": 35,
   "id": "c4d907d0",
   "metadata": {},
   "outputs": [
    {
     "data": {
      "text/plain": [
       "(832, 832)"
      ]
     },
     "execution_count": 35,
     "metadata": {},
     "output_type": "execute_result"
    }
   ],
   "source": [
    "import numpy as np\n",
    "\n",
    "ISBNS_array = df['ISBN'].unique()\n",
    "ISBNS_array = np.sort(ISBNS_array).tolist()\n",
    "\n",
    "vector_a = vectorize_ratings(ratings_a, ISBNS_array)\n",
    "vector_b = vectorize_ratings(ratings_b, ISBNS_array)\n",
    "\n",
    "len(vector_a), len(vector_b)\n"
   ]
  },
  {
   "cell_type": "markdown",
   "id": "a7213544",
   "metadata": {},
   "source": [
    "## 4. Helper functions\n",
    "\n",
    "Below are two functions that (1) retrieve user ratings from a given dataset and (2) vectorize these ratings according to a certain dimension (all ISBNs)."
   ]
  },
  {
   "cell_type": "code",
   "execution_count": 36,
   "id": "3ff1da5f",
   "metadata": {},
   "outputs": [],
   "source": [
    "def get_user_ratings(user_id, df_subset):\n",
    "    \n",
    "    df_user = df_subset[df_subset['User-ID'] == user_id]\n",
    "        \n",
    "    return dict(zip(df_user['ISBN'], df_user['Book-Rating']))"
   ]
  },
  {
   "cell_type": "code",
   "execution_count": 40,
   "id": "f374ed57",
   "metadata": {},
   "outputs": [],
   "source": [
    "def create_ratings_vector(user_ISBN_rating_dict, all_ISBNS_array):\n",
    "    \n",
    "    user_ISBNS = user_ISBN_rating_dict.keys()\n",
    "    \n",
    "    return [0 if v not in user_ISBNS else user_ISBN_rating_dict[v] for v in all_ISBNS_array]    "
   ]
  },
  {
   "cell_type": "markdown",
   "id": "4fc79060",
   "metadata": {},
   "source": [
    "## 5. Cosine distance function\n",
    "\n",
    "Can you finish the writing of the function below that calculates the angle between two vectors have the same dimension? As you can see, use the numpy `dot` and `norm` operators do translate the given formula into code."
   ]
  },
  {
   "cell_type": "code",
   "execution_count": 60,
   "id": "9c856545",
   "metadata": {},
   "outputs": [],
   "source": [
    "from numpy import dot\n",
    "from numpy.linalg import norm\n",
    "\n",
    "def cosine_distance(ratings_vector_user_a, ratings_vector_user_b):\n",
    "    p1 = dot(ratings_vector_user_a, ratings_vector_user_b)\n",
    "    p2 = norm(ratings_vector_user_a) *  norm(ratings_vector_user_b)\n",
    "    return 1 - (p1/p2)\n",
    "#     a . b  -> dot(a, b)\n",
    "#     -----\n",
    "#     |a||b| -> norm(a) * norm(b)   "
   ]
  },
  {
   "cell_type": "markdown",
   "id": "fb03e68c",
   "metadata": {},
   "source": [
    "## 6. Calculate distances\n",
    "\n",
    "Here is the ID of a user in our dataset (you can of course choose another one!).\n",
    "\n",
    "Can you calculate this user's cosine distance from all the other users in the dataset?"
   ]
  },
  {
   "cell_type": "code",
   "execution_count": null,
   "id": "590be665",
   "metadata": {},
   "outputs": [],
   "source": [
    "a_user_id = 277427\n",
    "users = df['User-ID'].unique()\n",
    "\n",
    "a_ratings = get_user_ratings(a_user_id, df)\n",
    "a_vector = create_ratings_vector(a_ratings, ISBNS_array)\n",
    "\n",
    "\n",
    "cosine_distances = [cosine_distance(a_vector, create_ratings_vector(get_user_ratings(id, df), ISBNS_array)) for id in users]"
   ]
  },
  {
   "cell_type": "markdown",
   "id": "afecbadb",
   "metadata": {},
   "source": [
    "## 7. Function calculating distances\n",
    "\n",
    "Considering the code above, can you make a function that will take as input a given user's ID and calculate its distance from all other users in our dataset?"
   ]
  },
  {
   "cell_type": "code",
   "execution_count": null,
   "id": "bae9370a",
   "metadata": {},
   "outputs": [],
   "source": [
    "users = df['User-ID'].unique()\n",
    "\n",
    "def cosine_distances(user_id):\n",
    "    a_ratings = get_user_ratings(a_user_id, df)\n",
    "    a_vector = create_ratings_vector(a_ratings, ISBNS_array)\n",
    "    return [cosine_distance(a_vector, create_ratings_vector(get_user_ratings(id, df), ISBNS_array)) for id in users]\n",
    "\n",
    "cosine_distances(277427)"
   ]
  }
 ],
 "metadata": {
  "kernelspec": {
   "display_name": "Python 3 (ipykernel)",
   "language": "python",
   "name": "python3"
  },
  "language_info": {
   "codemirror_mode": {
    "name": "ipython",
    "version": 3
   },
   "file_extension": ".py",
   "mimetype": "text/x-python",
   "name": "python",
   "nbconvert_exporter": "python",
   "pygments_lexer": "ipython3",
   "version": "3.11.0"
  }
 },
 "nbformat": 4,
 "nbformat_minor": 5
}

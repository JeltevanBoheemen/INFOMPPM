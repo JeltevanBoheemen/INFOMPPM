{
 "cells": [
  {
   "attachments": {},
   "cell_type": "markdown",
   "metadata": {},
   "source": [
    "# 📚 Recommendations based on weighted ratings\n",
    "Considering the drawbacks of using average ratings, you will now develop recommendations based on the weighted average for each book. Refer to the article [Building a Recommendation System using weighted-average score](https://medium.com/@developeraritro/building-a-recommendation-system-using-weighted-hybrid-technique-75598b6be8ed) to understand and apply this concept.\n"
   ]
  },
  {
   "cell_type": "markdown",
   "metadata": {},
   "source": [
    "### 1. Calculate Weightage Average for Individual books average rating\n",
    "Determine the mean vote value (C) for the entire dataset.\n"
   ]
  },
  {
   "cell_type": "code",
   "execution_count": 26,
   "metadata": {},
   "outputs": [],
   "source": [
    "def weighted_avg(book, c, m):\n",
    "    r = book['mean']\n",
    "    v = book['count']\n",
    "    rv = r * v\n",
    "    cm = c * m\n",
    "    return (rv + cm) / (v + m)\n"
   ]
  },
  {
   "cell_type": "code",
   "execution_count": 33,
   "metadata": {},
   "outputs": [
    {
     "name": "stdout",
     "output_type": "stream",
     "text": [
      "         ISBN      mean  count    weight   weight2\n",
      "0  000649840X  7.520000     25  7.613258  7.613258\n",
      "1  0006547834  8.571429      7  8.024106  8.024106\n",
      "2  0006550576  7.500000     10  7.661213  7.661213\n",
      "3  0006550789  7.625000      8  7.718710  7.718710\n",
      "4  0007106572  5.500000      2  7.501784  7.501784\n"
     ]
    }
   ],
   "source": [
    "import pandas as pd\n",
    "from functools import partial\n",
    "\n",
    "# W = (Rv + Cm) / (v + m)\n",
    "ratings = pd.read_csv('data/ratings_subset.csv', sep=';', encoding='latin-1')\n",
    "df = ratings.groupby(['ISBN'])['Book-Rating'].agg(['mean', 'count']).reset_index()\n",
    "\n",
    "# apply constants C and m\n",
    "C = ratings['Book-Rating'].mean()\n",
    "m = df['count'].quantile(0.7)\n",
    "w_func = partial(weighted_avg, c=C, m=m)\n",
    "\n",
    "# apply function\n",
    "df['weight'] = df.apply(w_func, axis=1)\n",
    "\n",
    "# lambda alternative\n",
    "df['weight2'] = df.apply(lambda x: (x['mean']*x['count'] + C*m) / (x['count'] + m))\n",
    "\n",
    "# sort it again\n",
    "df = df.sort_values(by='weight', ascending=False)\n"
   ]
  },
  {
   "cell_type": "markdown",
   "metadata": {},
   "source": [
    "### 2. Save the recommendations\n",
    "Choose the top 10 books based on their weighted ratings and save these recommendations as `recommendations-ratings-weight.csv`. Then, update the app directory by replacing the existing file. Ensure the file includes the columns: `ISBN;weight`."
   ]
  },
  {
   "cell_type": "code",
   "execution_count": 30,
   "metadata": {},
   "outputs": [],
   "source": [
    "df[['ISBN', 'weight']].head(10).to_csv('app/recommendations/recommendations-ratings-weight.csv', sep=';', index=False)"
   ]
  },
  {
   "cell_type": "markdown",
   "metadata": {},
   "source": [
    "### 3. Compare recommendations based on average rating and weighted ratings\n",
    "Review the interface to note any significant differences with this method."
   ]
  }
 ],
 "metadata": {
  "interpreter": {
   "hash": "37c10f95d263926787ebf1d430d11186fc6b9bac835b8518e0b5006ed24f0c36"
  },
  "kernelspec": {
   "display_name": "Python 3.8.0 64-bit",
   "language": "python",
   "name": "python3"
  },
  "language_info": {
   "codemirror_mode": {
    "name": "ipython",
    "version": 3
   },
   "file_extension": ".py",
   "mimetype": "text/x-python",
   "name": "python",
   "nbconvert_exporter": "python",
   "pygments_lexer": "ipython3",
   "version": "3.11.0"
  },
  "orig_nbformat": 4
 },
 "nbformat": 4,
 "nbformat_minor": 2
}

{
 "cells": [
  {
   "attachments": {},
   "cell_type": "markdown",
   "metadata": {},
   "source": [
    "# 📚 Recommendations based on Frequently Reviewed Together (frequency)\n",
    "Use the `permutations` function from `itertools` to create combinations of books that are frequently reviewed together. "
   ]
  },
  {
   "cell_type": "markdown",
   "metadata": {},
   "source": [
    "### 1. Quick introduction to permutations"
   ]
  },
  {
   "cell_type": "code",
   "execution_count": 3,
   "metadata": {},
   "outputs": [
    {
     "data": {
      "text/plain": [
       "[('milk', 'bread'),\n",
       " ('milk', 'eggs'),\n",
       " ('bread', 'milk'),\n",
       " ('bread', 'eggs'),\n",
       " ('eggs', 'milk'),\n",
       " ('eggs', 'bread')]"
      ]
     },
     "execution_count": 3,
     "metadata": {},
     "output_type": "execute_result"
    }
   ],
   "source": [
    "from itertools import permutations \n",
    "\n",
    "# items bought together\n",
    "items = ['milk', 'bread', 'eggs']\n",
    "\n",
    "# this code creates sets of 2 items from the itemset above\n",
    "list(permutations(items, 2))"
   ]
  },
  {
   "cell_type": "markdown",
   "metadata": {},
   "source": [
    "### 2. Count the combinations of books reviewed together\n",
    "Create combinations with `permutations` and count how often each combination occurs. This process might be time-consuming, depending on your initial data exploration."
   ]
  },
  {
   "cell_type": "code",
   "execution_count": 20,
   "metadata": {},
   "outputs": [
    {
     "data": {
      "text/html": [
       "<div>\n",
       "<style scoped>\n",
       "    .dataframe tbody tr th:only-of-type {\n",
       "        vertical-align: middle;\n",
       "    }\n",
       "\n",
       "    .dataframe tbody tr th {\n",
       "        vertical-align: top;\n",
       "    }\n",
       "\n",
       "    .dataframe thead th {\n",
       "        text-align: right;\n",
       "    }\n",
       "</style>\n",
       "<table border=\"1\" class=\"dataframe\">\n",
       "  <thead>\n",
       "    <tr style=\"text-align: right;\">\n",
       "      <th></th>\n",
       "      <th>book_a</th>\n",
       "      <th>book_b</th>\n",
       "      <th>count</th>\n",
       "    </tr>\n",
       "  </thead>\n",
       "  <tbody>\n",
       "    <tr>\n",
       "      <th>3118174</th>\n",
       "      <td>0439064864</td>\n",
       "      <td>0439136350</td>\n",
       "      <td>77</td>\n",
       "    </tr>\n",
       "    <tr>\n",
       "      <th>3127454</th>\n",
       "      <td>0439136350</td>\n",
       "      <td>0439064864</td>\n",
       "      <td>77</td>\n",
       "    </tr>\n",
       "    <tr>\n",
       "      <th>3119302</th>\n",
       "      <td>0439064864</td>\n",
       "      <td>0590353403</td>\n",
       "      <td>71</td>\n",
       "    </tr>\n",
       "    <tr>\n",
       "      <th>5569760</th>\n",
       "      <td>0590353403</td>\n",
       "      <td>0439064864</td>\n",
       "      <td>71</td>\n",
       "    </tr>\n",
       "    <tr>\n",
       "      <th>3127457</th>\n",
       "      <td>0439136350</td>\n",
       "      <td>0439139597</td>\n",
       "      <td>70</td>\n",
       "    </tr>\n",
       "    <tr>\n",
       "      <th>...</th>\n",
       "      <td>...</td>\n",
       "      <td>...</td>\n",
       "      <td>...</td>\n",
       "    </tr>\n",
       "    <tr>\n",
       "      <th>2727220</th>\n",
       "      <td>0399150897</td>\n",
       "      <td>0743204697</td>\n",
       "      <td>1</td>\n",
       "    </tr>\n",
       "    <tr>\n",
       "      <th>2727218</th>\n",
       "      <td>0399150897</td>\n",
       "      <td>0743202562</td>\n",
       "      <td>1</td>\n",
       "    </tr>\n",
       "    <tr>\n",
       "      <th>2727217</th>\n",
       "      <td>0399150897</td>\n",
       "      <td>0717283208</td>\n",
       "      <td>1</td>\n",
       "    </tr>\n",
       "    <tr>\n",
       "      <th>2727216</th>\n",
       "      <td>0399150897</td>\n",
       "      <td>0702222550</td>\n",
       "      <td>1</td>\n",
       "    </tr>\n",
       "    <tr>\n",
       "      <th>7703513</th>\n",
       "      <td>950491036X</td>\n",
       "      <td>8495618605</td>\n",
       "      <td>1</td>\n",
       "    </tr>\n",
       "  </tbody>\n",
       "</table>\n",
       "<p>7703514 rows × 3 columns</p>\n",
       "</div>"
      ],
      "text/plain": [
       "             book_a      book_b  count\n",
       "3118174  0439064864  0439136350     77\n",
       "3127454  0439136350  0439064864     77\n",
       "3119302  0439064864  0590353403     71\n",
       "5569760  0590353403  0439064864     71\n",
       "3127457  0439136350  0439139597     70\n",
       "...             ...         ...    ...\n",
       "2727220  0399150897  0743204697      1\n",
       "2727218  0399150897  0743202562      1\n",
       "2727217  0399150897  0717283208      1\n",
       "2727216  0399150897  0702222550      1\n",
       "7703513  950491036X  8495618605      1\n",
       "\n",
       "[7703514 rows x 3 columns]"
      ]
     },
     "execution_count": 20,
     "metadata": {},
     "output_type": "execute_result"
    }
   ],
   "source": [
    "import pandas as pd\n",
    "\n",
    "df = pd.read_csv('data/ratings_subset.csv', sep=';', encoding='latin-1')\n",
    "\n",
    "from itertools import permutations \n",
    "\n",
    "def create_combinations(x):\n",
    "  combinations = pd.DataFrame(list(permutations(x.values, 2)), columns=['book_a','book_b'])    \n",
    "  return combinations\n",
    "\n",
    "# use the function to create combinations\n",
    "book_combinations = df.groupby('User-ID')['ISBN'].apply(create_combinations) \n",
    "\n",
    "book_combinations = book_combinations.reset_index(drop=True)\n",
    "\n",
    "# count the combinations\n",
    "combinations_counts = book_combinations.groupby(['book_a', 'book_b']).size()\n",
    "combinations_counts = combinations_counts.to_frame(name = 'count').reset_index()\n",
    "\n",
    "combinations_counts.sort_values(by='count', ascending=False)"
   ]
  },
  {
   "cell_type": "markdown",
   "metadata": {},
   "source": [
    "### 3. Save the recommendations\n",
    "Given the potential size of the output, limit the CSV file to include only the top 10 recommendations per book. Save this as `recommendations-seeded-freq.csv` and update the file in the app directory. Remember to enable the code block related to this step if it was previously commented out.\n"
   ]
  },
  {
   "cell_type": "code",
   "execution_count": 21,
   "metadata": {},
   "outputs": [],
   "source": [
    "combinations_counts = combinations_counts.sort_values('count', ascending=False)\n",
    "\n",
    "# only select top 10 per combination\n",
    "df1 = combinations_counts.sort_values('count', ascending = False).groupby('book_a').head(10)\n",
    "\n",
    "df1.to_csv('app/recommendations/recommendations-seeded-freq.csv', index=False, sep=';')"
   ]
  }
 ],
 "metadata": {
  "interpreter": {
   "hash": "37c10f95d263926787ebf1d430d11186fc6b9bac835b8518e0b5006ed24f0c36"
  },
  "kernelspec": {
   "display_name": "Python 3.8.0 64-bit",
   "language": "python",
   "name": "python3"
  },
  "language_info": {
   "codemirror_mode": {
    "name": "ipython",
    "version": 3
   },
   "file_extension": ".py",
   "mimetype": "text/x-python",
   "name": "python",
   "nbconvert_exporter": "python",
   "pygments_lexer": "ipython3",
   "version": "3.11.0"
  },
  "orig_nbformat": 4
 },
 "nbformat": 4,
 "nbformat_minor": 2
}
